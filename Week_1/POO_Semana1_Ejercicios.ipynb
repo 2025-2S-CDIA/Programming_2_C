{
 "cells": [
  {
   "cell_type": "markdown",
   "id": "499dc3ec",
   "metadata": {},
   "source": [
    "\n",
    "# Semana 1 · POO en Python — Notebook **solo de ejercicios**\n",
    "Completa los **TODO** en cada ejercicio. Ejecuta las celdas de prueba para verificar tu solución.\n"
   ]
  },
  {
   "cell_type": "markdown",
   "id": "0103f213",
   "metadata": {},
   "source": [
    "\n",
    "## Ejercicio 1 — Clase mínima\n",
    "Crea una clase `Estudiante` con:\n",
    "- `__init__(self, nombre, matricula)`\n",
    "- método `saludar(self)` que retorne: `\"Hola, soy <nombre> (<matricula>)\"`\n"
   ]
  },
  {
   "cell_type": "code",
   "execution_count": null,
   "id": "f7c0747e",
   "metadata": {},
   "outputs": [],
   "source": [
    "\n",
    "# === TU CÓDIGO AQUÍ ===\n",
    "class Estudiante:\n",
    "    pass\n",
    "\n",
    "# --- Pruebas ---\n",
    "try:\n",
    "    e = Estudiante(\"Ana\", \"CDIA-001\")\n",
    "    assert e.saludar() == \"Hola, soy Ana (CDIA-001)\"\n",
    "    print(\"✅ Ejercicio 1 OK\")\n",
    "except Exception as ex:\n",
    "    print(\"❌ Falla Ej.1:\", ex)\n"
   ]
  },
  {
   "cell_type": "markdown",
   "id": "ec792357",
   "metadata": {},
   "source": [
    "\n",
    "## Ejercicio 2 — Atributos de clase vs. instancia\n",
    "Crea `Curso` con:\n",
    "- Atributo de clase `campus = \"UNACH\"`\n",
    "- `__init__(self, codigo)` que guarde `codigo` como atributo de **instancia**.\n"
   ]
  },
  {
   "cell_type": "code",
   "execution_count": null,
   "id": "c55b94f9",
   "metadata": {},
   "outputs": [],
   "source": [
    "\n",
    "# === TU CÓDIGO AQUÍ ===\n",
    "class Curso:\n",
    "    pass\n",
    "\n",
    "# --- Pruebas ---\n",
    "try:\n",
    "    a = Curso(\"P2-A\"); b = Curso(\"P2-B\")\n",
    "    assert a.campus == \"UNACH\" and b.campus == \"UNACH\"\n",
    "    assert a.codigo == \"P2-A\" and b.codigo == \"P2-B\"\n",
    "    Curso.campus = \"Virtual\"\n",
    "    assert a.campus == \"Virtual\" and b.campus == \"Virtual\"\n",
    "    print(\"✅ Ejercicio 2 OK\")\n",
    "except Exception as ex:\n",
    "    print(\"❌ Falla Ej.2:\", ex)\n"
   ]
  },
  {
   "cell_type": "markdown",
   "id": "856f1818",
   "metadata": {},
   "source": [
    "\n",
    "## Ejercicio 3 — `__str__` y `__repr__`\n",
    "Implementa `Producto` con:\n",
    "- `__init__(self, codigo, nombre, precio)`\n",
    "- `__repr__` con formato: `\"Producto(codigo='X', nombre='Y', precio=Z)\"`\n",
    "- `__str__` con formato: `\"<codigo> - <nombre> ($<precio>)\"`\n"
   ]
  },
  {
   "cell_type": "code",
   "execution_count": null,
   "id": "1502b489",
   "metadata": {},
   "outputs": [],
   "source": [
    "\n",
    "# === TU CÓDIGO AQUÍ ===\n",
    "class Producto:\n",
    "    pass\n",
    "\n",
    "# --- Pruebas ---\n",
    "try:\n",
    "    p = Producto(\"A1\",\"Lapiz\",0.5)\n",
    "    assert \"Producto(codigo='A1', nombre='Lapiz', precio=0.5)\" == repr(p)\n",
    "    assert str(p) == \"A1 - Lapiz ($0.5)\"\n",
    "    print(\"✅ Ejercicio 3 OK\")\n",
    "except Exception as ex:\n",
    "    print(\"❌ Falla Ej.3:\", ex)\n"
   ]
  },
  {
   "cell_type": "markdown",
   "id": "113df554",
   "metadata": {},
   "source": [
    "\n",
    "## Ejercicio 4 — Métodos de instancia, clase y estáticos\n",
    "Crea `Contador` con:\n",
    "- atributo de clase `total = 0`\n",
    "- `__init__` que incremente `total`\n",
    "- `@classmethod cantidad(cls)` que retorne `total`\n",
    "- `@staticmethod es_valido(x)` que retorne `True` si `x` no es `None`\n"
   ]
  },
  {
   "cell_type": "code",
   "execution_count": null,
   "id": "e2bdb4a2",
   "metadata": {},
   "outputs": [],
   "source": [
    "\n",
    "# === TU CÓDIGO AQUÍ ===\n",
    "class Contador:\n",
    "    pass\n",
    "\n",
    "# --- Pruebas ---\n",
    "try:\n",
    "    Contador.total = 0\n",
    "    c1 = Contador(); c2 = Contador(); c3 = Contador()\n",
    "    assert Contador.cantidad() == 3\n",
    "    assert Contador.es_valido(\"ok\") is True and Contador.es_valido(None) is False\n",
    "    print(\"✅ Ejercicio 4 OK\")\n",
    "except Exception as ex:\n",
    "    print(\"❌ Falla Ej.4:\", ex)\n"
   ]
  },
  {
   "cell_type": "markdown",
   "id": "96f090d4",
   "metadata": {},
   "source": [
    "\n",
    "## Ejercicio 5 — `@property` con validación\n",
    "Crea `Cuenta` con:\n",
    "- `_saldo: float` inicializado en `__init__` (por defecto 0.0)\n",
    "- propiedad `saldo` con getter y setter\n",
    "  - el setter debe impedir valores negativos (lanzar `ValueError`)\n"
   ]
  },
  {
   "cell_type": "code",
   "execution_count": null,
   "id": "0fa6fa3a",
   "metadata": {},
   "outputs": [],
   "source": [
    "\n",
    "# === TU CÓDIGO AQUÍ ===\n",
    "class Cuenta:\n",
    "    pass\n",
    "\n",
    "# --- Pruebas ---\n",
    "try:\n",
    "    c = Cuenta()\n",
    "    assert c.saldo == 0.0\n",
    "    c.saldo = 100.0\n",
    "    assert c.saldo == 100.0\n",
    "    try:\n",
    "        c.saldo = -1.0\n",
    "        raise AssertionError(\"Debe lanzar ValueError con saldo negativo\")\n",
    "    except ValueError:\n",
    "        pass\n",
    "    print(\"✅ Ejercicio 5 OK\")\n",
    "except Exception as ex:\n",
    "    print(\"❌ Falla Ej.5:\", ex)\n"
   ]
  },
  {
   "cell_type": "markdown",
   "id": "ac751160",
   "metadata": {},
   "source": [
    "\n",
    "## Ejercicio 6 — Duck typing\n",
    "Crea dos clases con un método `area()`:\n",
    "- `Rectangulo(a, b)` que retorne `a*b`\n",
    "- `Triangulo(base, altura)` que retorne `(base*altura)/2`\n",
    "Luego implementa `imprimir_area(figura)` que imprima `\"Area: <valor>\"` usando `figura.area()`.\n"
   ]
  },
  {
   "cell_type": "code",
   "execution_count": null,
   "id": "9e212da2",
   "metadata": {},
   "outputs": [],
   "source": [
    "\n",
    "# === TU CÓDIGO AQUÍ ===\n",
    "def imprimir_area(figura):\n",
    "    pass\n",
    "\n",
    "# --- Pruebas ---\n",
    "try:\n",
    "    r = Rectangulo(3,4)\n",
    "    t = Triangulo(3,4)\n",
    "    import io, sys\n",
    "    buf = io.StringIO()\n",
    "    _stdout = sys.stdout\n",
    "    sys.stdout = buf\n",
    "    imprimir_area(r)\n",
    "    imprimir_area(t)\n",
    "    sys.stdout = _stdout\n",
    "    out = buf.getvalue().strip().splitlines()\n",
    "    assert out[0] == \"Area: 12\" and out[1] == \"Area: 6.0\"\n",
    "    print(\"✅ Ejercicio 6 OK\")\n",
    "except Exception as ex:\n",
    "    print(\"❌ Falla Ej.6:\", ex)\n"
   ]
  },
  {
   "cell_type": "markdown",
   "id": "74ae21d5",
   "metadata": {},
   "source": [
    "\n",
    "## Ejercicio 7 — Inventario simple\n",
    "Implementa `InventarioProducto` con:\n",
    "- `codigo: str`, `nombre: str`, `_stock: int = 0`, `precio: float`\n",
    "- `ingresar(unidades:int)` suma a `_stock` (valida `>0`)\n",
    "- `vender(unidades:int)` resta si hay stock suficiente y retorna total (`unidades*precio`)\n",
    "- propiedad `stock` con validación (no negativos)\n"
   ]
  },
  {
   "cell_type": "code",
   "execution_count": null,
   "id": "5ef7237a",
   "metadata": {},
   "outputs": [],
   "source": [
    "\n",
    "# === TU CÓDIGO AQUÍ ===\n",
    "class InventarioProducto:\n",
    "    pass\n",
    "\n",
    "# --- Pruebas ---\n",
    "try:\n",
    "    i = InventarioProducto(\"A1\",\"Lapiz\",precio=0.5)\n",
    "    i.ingresar(10)\n",
    "    assert i.stock == 10\n",
    "    total = i.vender(4)\n",
    "    assert total == 2.0 and i.stock == 6\n",
    "    try:\n",
    "        i.vender(100)  # no debe permitir\n",
    "        raise AssertionError(\"Venta sin stock suficiente debe fallar\")\n",
    "    except ValueError:\n",
    "        pass\n",
    "    print(\"✅ Ejercicio 7 OK\")\n",
    "except Exception as ex:\n",
    "    print(\"❌ Falla Ej.7:\", ex)\n"
   ]
  },
  {
   "cell_type": "markdown",
   "id": "8468f9d6",
   "metadata": {},
   "source": [
    "\n",
    "## Ejercicio 8 — **Trabajo individual** (para entregar)\n",
    "Diseña `RegistroNotas`:\n",
    "- Atributos: `estudiante: str`, `_notas: list[float] = []`\n",
    "- Métodos:\n",
    "  - `agregar(nota: float)` (0.0 ≤ nota ≤ 10.0)\n",
    "  - `promedio() -> float`\n",
    "  - `__repr__` informativo\n",
    "- Propiedad `notas` **solo lectura** (devuelve copia, no permite asignar).\n",
    "**Incluye 3 pruebas de uso** (dos casos válidos y uno de error).\n"
   ]
  },
  {
   "cell_type": "code",
   "execution_count": null,
   "id": "940c7320",
   "metadata": {},
   "outputs": [],
   "source": [
    "\n",
    "# === TU CÓDIGO AQUÍ (EJERCICIO INDIVIDUAL) ===\n",
    "\n",
    "# Puedes agregar tus propias pruebas abajo\n"
   ]
  },
  {
   "cell_type": "markdown",
   "id": "860f0169",
   "metadata": {},
   "source": [
    "\n",
    "---\n",
    "**Consejo:** ejecuta siempre las celdas de prueba después de completar cada ejercicio.\n"
   ]
  }
 ],
 "metadata": {},
 "nbformat": 4,
 "nbformat_minor": 5
}
