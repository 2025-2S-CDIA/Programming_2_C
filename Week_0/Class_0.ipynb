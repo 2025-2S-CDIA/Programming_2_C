{
 "cells": [
  {
   "cell_type": "markdown",
   "id": "50e75129",
   "metadata": {},
   "source": [
    "# Ejercicio Sencillo en Python\n",
    "\n",
    "### subtitulos\n",
    "\n",
    "cuerpo\n",
    "\n",
    "\n"
   ]
  },
  {
   "cell_type": "code",
   "execution_count": 12,
   "id": "50521789",
   "metadata": {},
   "outputs": [
    {
     "name": "stdout",
     "output_type": "stream",
     "text": [
      "La suma es: 15\n"
     ]
    }
   ],
   "source": [
    "x=5\n",
    "\n",
    "y=10\n",
    "\n",
    "suma=x+y\n",
    "\n",
    "print(\"La suma es:\", suma)"
   ]
  },
  {
   "cell_type": "code",
   "execution_count": 21,
   "id": "fba1ec02",
   "metadata": {},
   "outputs": [
    {
     "name": "stdout",
     "output_type": "stream",
     "text": [
      "La distancia euclidiana es: 5.0\n"
     ]
    },
    {
     "data": {
      "text/plain": [
       "1734463762224"
      ]
     },
     "execution_count": 21,
     "metadata": {},
     "output_type": "execute_result"
    }
   ],
   "source": [
    "def euclidian_distance(p1, p2):\n",
    "    return ((p1[0] - p2[0])**2 + (p1[1] - p2[1])**2) ** 0.5\n",
    "\n",
    "\n",
    "\n",
    "dis=euclidian_distance((1,2), (4,6))\n",
    "print(\"La distancia euclidiana es:\", dis)\n",
    "\n",
    "type(dis)\n",
    "\n",
    "id(dis)"
   ]
  },
  {
   "cell_type": "code",
   "execution_count": 29,
   "id": "24823c83",
   "metadata": {},
   "outputs": [
    {
     "name": "stdout",
     "output_type": "stream",
     "text": [
      "12\n"
     ]
    }
   ],
   "source": [
    "r=6\n",
    "r*=2\n",
    "print(r)"
   ]
  }
 ],
 "metadata": {
  "kernelspec": {
   "display_name": "Programming_2",
   "language": "python",
   "name": "python3"
  },
  "language_info": {
   "codemirror_mode": {
    "name": "ipython",
    "version": 3
   },
   "file_extension": ".py",
   "mimetype": "text/x-python",
   "name": "python",
   "nbconvert_exporter": "python",
   "pygments_lexer": "ipython3",
   "version": "3.11.13"
  }
 },
 "nbformat": 4,
 "nbformat_minor": 5
}
