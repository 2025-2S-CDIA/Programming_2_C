{
 "cells": [
  {
   "cell_type": "markdown",
   "id": "2496879b",
   "metadata": {},
   "source": [
    "\n",
    "# Semana 1 · Programación Orientada a Objetos (POO) en Python\n",
    "**Clases, Objetos, Atributos, Métodos, `__str__/__repr__`, `@property`, y Duck Typing**\n",
    "\n",
    "> Notebook práctico para clase. Ejecuta cada celda y completa los ejercicios marcados con **TODO**.\n"
   ]
  },
  {
   "cell_type": "markdown",
   "id": "fa4aa1a9",
   "metadata": {},
   "source": [
    "\n",
    "## 0) Warm‑up rápido\n",
    "Pregunta: ¿Qué diferencia hay entre **clase** y **objeto**? Escribe una frase en tus propias palabras en la siguiente celda (como comentario).\n"
   ]
  },
  {
   "cell_type": "markdown",
   "id": "450c26f2",
   "metadata": {},
   "source": [
    "Clase es una plantilla y objeto es lo que surge de la plantilla, clase es el plano, objeto es la casa"
   ]
  },
  {
   "cell_type": "markdown",
   "id": "d12e99a8",
   "metadata": {},
   "source": [
    "\n",
    "## 1) Clase mínima y primera instancia\n",
    "Observa la sintaxis básica: `class`, `__init__` para inicializar estado, y un método con `self`.\n"
   ]
  },
  {
   "cell_type": "code",
   "execution_count": 40,
   "id": "87498783",
   "metadata": {},
   "outputs": [
    {
     "name": "stdout",
     "output_type": "stream",
     "text": [
      "Hola, soy Ana pertenesco al curso (CDIA-001)\n"
     ]
    }
   ],
   "source": [
    "\n",
    "class Estudiante:\n",
    "    def __init__(self, nombre, matricula):\n",
    "        self.nombre = nombre\n",
    "        self.matricula = matricula\n",
    "\n",
    "    def saludar(self):\n",
    "        return f\"Hola, soy {self.nombre} pertenesco al curso ({self.matricula})\"\n",
    "\n",
    "e = Estudiante(\"Ana\", \"CDIA-001\")\n",
    "print(e.saludar())\n"
   ]
  },
  {
   "cell_type": "code",
   "execution_count": 41,
   "id": "3525d5d9",
   "metadata": {},
   "outputs": [
    {
     "name": "stdout",
     "output_type": "stream",
     "text": [
      "Hola, soy Luis pertenesco al curso (Programacion-2)\n"
     ]
    }
   ],
   "source": [
    "e_1=Estudiante(\"Luis\",\"Programacion-2\")\n",
    "\n",
    "print(e_1.saludar())"
   ]
  },
  {
   "cell_type": "code",
   "execution_count": 42,
   "id": "3a31a315",
   "metadata": {},
   "outputs": [
    {
     "data": {
      "text/plain": [
       "__main__.Estudiante"
      ]
     },
     "execution_count": 42,
     "metadata": {},
     "output_type": "execute_result"
    }
   ],
   "source": [
    "type(e_1)\n",
    " # Muestra: <class '__main__.Estudiante'>"
   ]
  },
  {
   "cell_type": "code",
   "execution_count": 43,
   "id": "7d70430b",
   "metadata": {},
   "outputs": [
    {
     "data": {
      "text/plain": [
       "float"
      ]
     },
     "execution_count": 43,
     "metadata": {},
     "output_type": "execute_result"
    }
   ],
   "source": [
    "y=5.6\n",
    "\n",
    "type(y)"
   ]
  },
  {
   "cell_type": "code",
   "execution_count": 44,
   "id": "87b95a5f",
   "metadata": {},
   "outputs": [
    {
     "name": "stdout",
     "output_type": "stream",
     "text": [
      "Clase Estudiante: 0x1f78bd0d6e0\n",
      "Instancia e      : 0x1f78cfbccd0\n",
      "Instancia e_1    : 0x1f78ceb7890\n"
     ]
    }
   ],
   "source": [
    "# Direcciones (ids) en memoria del objeto clase y de las instancias\n",
    "print(\"Clase Estudiante:\", hex(id(Estudiante)))\n",
    "print(\"Instancia e      :\", hex(id(e)))\n",
    "print(\"Instancia e_1    :\", hex(id(e_1)))"
   ]
  },
  {
   "cell_type": "markdown",
   "id": "f2e5560f",
   "metadata": {},
   "source": [
    "\n",
    "## 2) Atributos de **instancia** vs. atributos de **clase**\n",
    "Un atributo de clase se comparte entre todas las instancias; uno de instancia es propio de cada objeto.\n"
   ]
  },
  {
   "cell_type": "code",
   "execution_count": 45,
   "id": "41854d7c",
   "metadata": {},
   "outputs": [
    {
     "name": "stdout",
     "output_type": "stream",
     "text": [
      "UNACH-Via a Guano UNACH-Via a Guano\n",
      "P2-A P2-B\n"
     ]
    }
   ],
   "source": [
    "\n",
    "class Curso:\n",
    "    campus = \"UNACH-Via a Guano\"  # atributo de clase (compartido)\n",
    "\n",
    "    def __init__(self, codigo):\n",
    "        self.codigo = codigo  # atributo de instancia (propio)\n",
    "\n",
    "a = Curso(\"P2-A\")\n",
    "\n",
    "b = Curso(\"P2-B\")\n",
    "\n",
    "print(a.campus, b.campus)   # comparten el mismo valor\n",
    "print(a.codigo, b.codigo)   # cada uno tiene su propio valor\n",
    "\n"
   ]
  },
  {
   "cell_type": "code",
   "execution_count": 46,
   "id": "e5f831f5",
   "metadata": {},
   "outputs": [
    {
     "name": "stdout",
     "output_type": "stream",
     "text": [
      "Virtual Virtual\n"
     ]
    }
   ],
   "source": [
    "# Demostración: cambiamos el atributo de clase\n",
    "Curso.campus = \"Virtual\"\n",
    "print(a.campus, b.campus)   # ambas instancias ven el cambio\n"
   ]
  },
  {
   "cell_type": "markdown",
   "id": "022332ec",
   "metadata": {},
   "source": [
    "\n",
    "## 3) `__str__` y `__repr__` para salidas legibles\n",
    "- `__str__`: presentación amigable para usuarios.\n",
    "- `__repr__`: representación precisa para desarrolladores (útil en depuración).\n"
   ]
  },
  {
   "cell_type": "code",
   "execution_count": 47,
   "id": "d869cf37",
   "metadata": {},
   "outputs": [
    {
     "name": "stdout",
     "output_type": "stream",
     "text": [
      "<__main__.Estudiante object at 0x000001F78CFBCCD0>\n"
     ]
    }
   ],
   "source": [
    "print(e)"
   ]
  },
  {
   "cell_type": "code",
   "execution_count": 48,
   "id": "297677c0",
   "metadata": {},
   "outputs": [],
   "source": [
    "\n",
    "class EstudianteLegible:\n",
    "    def __init__(self, nombre): \n",
    "        self.nombre = nombre\n",
    "\n",
    "    # def __repr__(self):\n",
    "    #     return f\"EstudianteLegible(nombre={self.nombre!r})\"\n",
    "\n",
    "    def __str__(self):\n",
    "        return f\"El estudiante se llama {self.nombre}\"\n",
    "\n"
   ]
  },
  {
   "cell_type": "code",
   "execution_count": 49,
   "id": "abbd647b",
   "metadata": {},
   "outputs": [
    {
     "name": "stdout",
     "output_type": "stream",
     "text": [
      "El estudiante se llama Elena\n"
     ]
    }
   ],
   "source": [
    "e = EstudianteLegible(\"Elena\")\n",
    "\n",
    "print(e)# En notebooks, la última línea muestra repr"
   ]
  },
  {
   "cell_type": "code",
   "execution_count": 50,
   "id": "a87835dc",
   "metadata": {},
   "outputs": [
    {
     "name": "stdout",
     "output_type": "stream",
     "text": [
      "El estudiante se llama Carlos\n"
     ]
    }
   ],
   "source": [
    "e_2=EstudianteLegible(\"Carlos\")\n",
    "print(e_2)"
   ]
  },
  {
   "cell_type": "markdown",
   "id": "0f44d60e",
   "metadata": {},
   "source": [
    "\n",
    "## 4) Métodos: de instancia, de clase y estáticos\n",
    "- **Instancia**: usa `self` (estado particular).\n",
    "- **Clase**: usa `cls` (estado compartido).\n",
    "- **Estático**: utilidad que no requiere `self/cls`.\n"
   ]
  },
  {
   "cell_type": "code",
   "execution_count": 51,
   "id": "defe57c4",
   "metadata": {},
   "outputs": [],
   "source": [
    "class Util:\n",
    "    contador = 0\n",
    "\n",
    "    def __init__(self):\n",
    "        Util.contador += 1  # método de instancia\n",
    "\n",
    "    @classmethod\n",
    "    def cuantos(cls):\n",
    "        return cls.contador  # método de clase\n",
    "\n",
    "    @staticmethod\n",
    "    def normaliza(txt):\n",
    "        return str(txt).strip()  # método estático"
   ]
  },
  {
   "cell_type": "code",
   "execution_count": 52,
   "id": "1804b4ca",
   "metadata": {},
   "outputs": [],
   "source": [
    "u1 = Util() \n",
    "u2 = Util()\n"
   ]
  },
  {
   "cell_type": "code",
   "execution_count": 53,
   "id": "87ce3459",
   "metadata": {},
   "outputs": [
    {
     "name": "stdout",
     "output_type": "stream",
     "text": [
      "instancias: 2\n"
     ]
    }
   ],
   "source": [
    "print(\"instancias:\", Util.cuantos())\n"
   ]
  },
  {
   "cell_type": "code",
   "execution_count": 54,
   "id": "78c65ffb",
   "metadata": {},
   "outputs": [
    {
     "name": "stdout",
     "output_type": "stream",
     "text": [
      "normaliza: hola\n"
     ]
    }
   ],
   "source": [
    "print(\"normaliza:\", Util.normaliza(\"  hola  \"))"
   ]
  },
  {
   "cell_type": "code",
   "execution_count": 55,
   "id": "2047c774",
   "metadata": {},
   "outputs": [
    {
     "name": "stdout",
     "output_type": "stream",
     "text": [
      "hola he normalizado\n"
     ]
    }
   ],
   "source": [
    "print(u1.normaliza(\"hola he normalizado\"))  # también se puede llamar desde la instancia"
   ]
  },
  {
   "cell_type": "markdown",
   "id": "03d8b7b2",
   "metadata": {},
   "source": [
    "\n",
    "## 5) `@property`: valida como método, usa como atributo\n",
    "Ejemplo: evitar saldos negativos con una propiedad.\n"
   ]
  },
  {
   "cell_type": "code",
   "execution_count": 56,
   "id": "ee495c6c",
   "metadata": {},
   "outputs": [],
   "source": [
    "\n",
    "class Cuenta:\n",
    "    def __init__(self, saldo=0.0):\n",
    "        self._balance = float(saldo)\n",
    "\n",
    "    @property\n",
    "    def saldo(self) -> float:\n",
    "        return self._balance\n",
    "\n",
    "    @saldo.setter\n",
    "    def saldo(self, v: float):\n",
    "        v = float(v)\n",
    "        if v < 0:\n",
    "            raise ValueError(\"Saldo negativo no permitido\")\n",
    "        self._balance = v\n",
    "\n",
    "\n"
   ]
  },
  {
   "cell_type": "code",
   "execution_count": 57,
   "id": "14a75a56",
   "metadata": {},
   "outputs": [
    {
     "name": "stdout",
     "output_type": "stream",
     "text": [
      "saldo inicial: 100.0\n"
     ]
    }
   ],
   "source": [
    "c = Cuenta(100)\n",
    "print(\"saldo inicial:\", c.saldo)\n"
   ]
  },
  {
   "cell_type": "code",
   "execution_count": 58,
   "id": "292b1dbb",
   "metadata": {},
   "outputs": [
    {
     "name": "stdout",
     "output_type": "stream",
     "text": [
      "saldo : 1000.0\n"
     ]
    }
   ],
   "source": [
    "c_2=Cuenta(1000)\n",
    "print(\"saldo :\", c_2.saldo)"
   ]
  },
  {
   "cell_type": "code",
   "execution_count": 59,
   "id": "66007ef1",
   "metadata": {},
   "outputs": [
    {
     "name": "stdout",
     "output_type": "stream",
     "text": [
      "saldo ahora: 250.0\n"
     ]
    }
   ],
   "source": [
    "c.saldo = 250\n",
    "print(\"saldo ahora:\", c.saldo)\n",
    "# c.saldo = -10  # descomenta para ver el error"
   ]
  },
  {
   "cell_type": "code",
   "execution_count": 60,
   "id": "bff88a89",
   "metadata": {},
   "outputs": [
    {
     "name": "stdout",
     "output_type": "stream",
     "text": [
      "1.0\n"
     ]
    }
   ],
   "source": [
    "c_2.saldo=1\n",
    "\n",
    "print(c_2.saldo)"
   ]
  },
  {
   "cell_type": "markdown",
   "id": "02db1e68",
   "metadata": {},
   "source": [
    "\n",
    "## 6) Duck typing (polimorfismo \"a la Python\")\n",
    "Nos interesa **qué puede hacer** el objeto (su interfaz), no su tipo exacto.\n"
   ]
  },
  {
   "cell_type": "code",
   "execution_count": 61,
   "id": "8b7012a2",
   "metadata": {},
   "outputs": [],
   "source": [
    "def imprimir_area(figura):\n",
    "    print(\"Área:\", figura.area())\n",
    "\n",
    "\n",
    "class Circulo:\n",
    "    def __init__(self, r):\n",
    "        self.r = r\n",
    "\n",
    "    def area(self):\n",
    "        return 3.1416 * self.r * self.r\n",
    "\n",
    "\n",
    "class Rectangulo:\n",
    "    def __init__(self, a, b):\n",
    "        self.a = a\n",
    "        self.b = b\n",
    "\n",
    "    def area(self):\n",
    "        return self.a * self.b\n",
    "    \n",
    "class Triangulo:\n",
    "    def __init__(self,base,altura):\n",
    "        self.base=base\n",
    "        self.altura=altura\n",
    "    def area(self):\n",
    "        return (self.base*self.altura)/2\n",
    "\n",
    "\n"
   ]
  },
  {
   "cell_type": "code",
   "execution_count": 62,
   "id": "9abf564e",
   "metadata": {},
   "outputs": [
    {
     "name": "stdout",
     "output_type": "stream",
     "text": [
      "Área: 12.5664\n"
     ]
    }
   ],
   "source": [
    "imprimir_area(Circulo(2))\n"
   ]
  },
  {
   "cell_type": "code",
   "execution_count": 63,
   "id": "ffd7122c",
   "metadata": {},
   "outputs": [
    {
     "name": "stdout",
     "output_type": "stream",
     "text": [
      "Área: 12\n"
     ]
    }
   ],
   "source": [
    "imprimir_area(Rectangulo(3, 4))"
   ]
  },
  {
   "cell_type": "code",
   "execution_count": 64,
   "id": "c1ddfb64",
   "metadata": {},
   "outputs": [
    {
     "name": "stdout",
     "output_type": "stream",
     "text": [
      "Área: 6.0\n"
     ]
    }
   ],
   "source": [
    "imprimir_area(Triangulo(3,4))"
   ]
  },
  {
   "cell_type": "markdown",
   "id": "e46c39ac",
   "metadata": {},
   "source": [
    "\n",
    "## 7) Type hints (opcional pero útil)\n",
    "Ayudan a documentar y a que herramientas como `mypy`/el IDE detecten errores antes de ejecutar.\n"
   ]
  },
  {
   "cell_type": "code",
   "execution_count": 65,
   "id": "2ca174fb",
   "metadata": {},
   "outputs": [
    {
     "name": "stdout",
     "output_type": "stream",
     "text": [
      "9.166666666666666\n"
     ]
    }
   ],
   "source": [
    "\n",
    "from typing import List\n",
    "\n",
    "def promedio(notas: List[float]) -> float:\n",
    "    return sum(notas) / len(notas)\n",
    "\n",
    "print(promedio([8.5, 9.0, 10.0]))\n"
   ]
  },
  {
   "cell_type": "markdown",
   "id": "1d379daf",
   "metadata": {},
   "source": [
    "\n",
    "---\n",
    "# Ejercicio guiado (en clase)\n",
    "\n",
    "**Objetivo:** modelar una `CuentaBancaria` con reglas simples y probarla.\n",
    "\n",
    "**Requisitos:**\n",
    "- Atributos: `titular: str`, `_saldo: float = 0.0`.\n",
    "- Métodos:\n",
    "  - `depositar(monto: float) -> None`: suma al saldo; `monto` debe ser positivo.\n",
    "  - `retirar(monto: float) -> None`: resta del saldo; no permite dejar saldo negativo.\n",
    "  - `__str__(self) -> str`: representación amigable (`\"Cuenta de <titular>: <saldo>\"`).\n",
    "- Propiedad:\n",
    "  - `saldo` (con `@property` y setter que valide no-negativos).\n",
    "- Pista: usa `ValueError` para validar entradas inválidas.\n"
   ]
  },
  {
   "cell_type": "code",
   "execution_count": 66,
   "id": "9fcf9e28",
   "metadata": {},
   "outputs": [],
   "source": [
    "\n",
    "# === TODO: Implementa aquí tu solución ===\n",
    "\n",
    "class CuentaBancaria:\n",
    "    def __init__(self, titular: str, saldo: float = 0.0):\n",
    "        # TODO: inicializa atributos\n",
    "        self.titular = titular\n",
    "        self._saldo = saldo \n",
    "\n",
    "    def depositar(self, monto: float) -> None:\n",
    "        # TODO: valida (monto > 0) y suma al saldo\n",
    "        if monto > 0:\n",
    "            self._saldo += monto\n",
    "        else:\n",
    "            raise ValueError(\"Monto debe ser positivo\")\n",
    "\n",
    "    def retirar(self, monto: float) -> None:\n",
    "        # TODO: valida (monto > 0) y que no deje saldo negativo\n",
    "        if monto > 0:\n",
    "            if self._saldo - monto >= 0:\n",
    "                self._saldo -= monto\n",
    "            else:\n",
    "                raise ValueError(\"Saldo insuficiente\")\n",
    "        else:\n",
    "            raise ValueError(\"Monto debe ser positivo\")\n",
    "\n",
    "    # TODO: agrega propiedad saldo con getter/setter que impida saldos negativos\n",
    "    \n",
    "    @property\n",
    "    def saldo(self) -> float:\n",
    "        return self._saldo\n",
    "    \n",
    "    @saldo.setter\n",
    "    def saldo(self, v: float):\n",
    "        v = float(v)\n",
    "        if v < 0:\n",
    "            raise ValueError(\"Saldo negativo no permitido\")\n",
    "        self._saldo = v\n",
    "\n",
    "    def __str__(self) -> str:\n",
    "        # TODO: devuelve \"Cuenta de <titular>: <saldo>\"\n",
    "        return f\"Cuenta de {self.titular}, tiene un saldo de {self.saldo} $\"\n"
   ]
  },
  {
   "cell_type": "code",
   "execution_count": 67,
   "id": "de63acc4",
   "metadata": {},
   "outputs": [
    {
     "name": "stdout",
     "output_type": "stream",
     "text": [
      "Cuenta de Ana, tiene un saldo de 0.0 $\n"
     ]
    }
   ],
   "source": [
    "Cuenta_1= CuentaBancaria(\"Ana\")\n",
    "\n",
    "print(Cuenta_1)"
   ]
  },
  {
   "cell_type": "code",
   "execution_count": 68,
   "id": "5ac61cbb",
   "metadata": {},
   "outputs": [
    {
     "name": "stdout",
     "output_type": "stream",
     "text": [
      "Cuenta de Ana, tiene un saldo de 500.0 $\n"
     ]
    }
   ],
   "source": [
    "Cuenta_1.depositar(500)\n",
    "\n",
    "print(Cuenta_1)"
   ]
  },
  {
   "cell_type": "code",
   "execution_count": 69,
   "id": "e5a9ddf6",
   "metadata": {},
   "outputs": [],
   "source": [
    "Cuenta_1.retirar(200)"
   ]
  },
  {
   "cell_type": "code",
   "execution_count": 70,
   "id": "86e62dbf",
   "metadata": {},
   "outputs": [
    {
     "name": "stdout",
     "output_type": "stream",
     "text": [
      "Cuenta de Ana, tiene un saldo de 300.0 $\n"
     ]
    }
   ],
   "source": [
    "print(Cuenta_1)"
   ]
  },
  {
   "cell_type": "code",
   "execution_count": 71,
   "id": "00890495",
   "metadata": {},
   "outputs": [
    {
     "ename": "ValueError",
     "evalue": "Saldo insuficiente",
     "output_type": "error",
     "traceback": [
      "\u001b[31m---------------------------------------------------------------------------\u001b[39m",
      "\u001b[31mValueError\u001b[39m                                Traceback (most recent call last)",
      "\u001b[36mCell\u001b[39m\u001b[36m \u001b[39m\u001b[32mIn[71]\u001b[39m\u001b[32m, line 1\u001b[39m\n\u001b[32m----> \u001b[39m\u001b[32m1\u001b[39m \u001b[43mCuenta_1\u001b[49m\u001b[43m.\u001b[49m\u001b[43mretirar\u001b[49m\u001b[43m(\u001b[49m\u001b[32;43m400\u001b[39;49m\u001b[43m)\u001b[49m\n",
      "\u001b[36mCell\u001b[39m\u001b[36m \u001b[39m\u001b[32mIn[66]\u001b[39m\u001b[32m, line 22\u001b[39m, in \u001b[36mCuentaBancaria.retirar\u001b[39m\u001b[34m(self, monto)\u001b[39m\n\u001b[32m     20\u001b[39m         \u001b[38;5;28mself\u001b[39m._saldo -= monto\n\u001b[32m     21\u001b[39m     \u001b[38;5;28;01melse\u001b[39;00m:\n\u001b[32m---> \u001b[39m\u001b[32m22\u001b[39m         \u001b[38;5;28;01mraise\u001b[39;00m \u001b[38;5;167;01mValueError\u001b[39;00m(\u001b[33m\"\u001b[39m\u001b[33mSaldo insuficiente\u001b[39m\u001b[33m\"\u001b[39m)\n\u001b[32m     23\u001b[39m \u001b[38;5;28;01melse\u001b[39;00m:\n\u001b[32m     24\u001b[39m     \u001b[38;5;28;01mraise\u001b[39;00m \u001b[38;5;167;01mValueError\u001b[39;00m(\u001b[33m\"\u001b[39m\u001b[33mMonto debe ser positivo\u001b[39m\u001b[33m\"\u001b[39m)\n",
      "\u001b[31mValueError\u001b[39m: Saldo insuficiente"
     ]
    }
   ],
   "source": [
    "Cuenta_1.retirar(400)"
   ]
  },
  {
   "cell_type": "code",
   "execution_count": 72,
   "id": "e7ccd50b",
   "metadata": {},
   "outputs": [],
   "source": [
    "Cuenta_1.saldo=1000"
   ]
  },
  {
   "cell_type": "code",
   "execution_count": 73,
   "id": "9ea485cc",
   "metadata": {},
   "outputs": [
    {
     "name": "stdout",
     "output_type": "stream",
     "text": [
      "Cuenta de Ana, tiene un saldo de 1000.0 $\n"
     ]
    }
   ],
   "source": [
    "print(Cuenta_1)"
   ]
  },
  {
   "cell_type": "markdown",
   "id": "0cfe705f",
   "metadata": {},
   "source": [
    "\n",
    "## Pruebas automáticas (autoevaluación)\n",
    "Ejecuta esta celda para verificar tu implementación. Si todo va bien, verás **✅ Todas las pruebas pasaron**.\n"
   ]
  },
  {
   "cell_type": "code",
   "execution_count": null,
   "id": "962d978f",
   "metadata": {},
   "outputs": [],
   "source": [
    "\n",
    "# # No modifiques estas pruebas.\n",
    "# def _run_tests():\n",
    "#     try:\n",
    "#         c = CuentaBancaria(\"Ana\")\n",
    "#         assert \"Ana\" in str(c)\n",
    "\n",
    "#         # saldo inicial 0.0\n",
    "#         assert hasattr(c, \"saldo\")\n",
    "#         assert isinstance(c.saldo, float)\n",
    "#         assert c.saldo == 0.0\n",
    "\n",
    "#         # depositar válido\n",
    "#         c.depositar(100.0)\n",
    "#         assert c.saldo == 100.0\n",
    "\n",
    "#         # retirar válido\n",
    "#         c.retirar(40.0)\n",
    "#         assert c.saldo == 60.0\n",
    "\n",
    "#         # no permite depositar 0 o negativo\n",
    "#         try:\n",
    "#             c.depositar(0)\n",
    "#             raise AssertionError(\"depositar(0) debe fallar\")\n",
    "#         except ValueError:\n",
    "#             pass\n",
    "#         try:\n",
    "#             c.depositar(-5)\n",
    "#             raise AssertionError(\"depositar(-5) debe fallar\")\n",
    "#         except ValueError:\n",
    "#             pass\n",
    "\n",
    "#         # no permite retirar 0 o negativo\n",
    "#         try:\n",
    "#             c.retirar(0)\n",
    "#             raise AssertionError(\"retirar(0) debe fallar\")\n",
    "#         except ValueError:\n",
    "#             pass\n",
    "#         try:\n",
    "#             c.retirar(-1)\n",
    "#             raise AssertionError(\"retirar(-1) debe fallar\")\n",
    "#         except ValueError:\n",
    "#             pass\n",
    "\n",
    "#         # no permite dejar saldo negativo\n",
    "#         try:\n",
    "#             c.retirar(1000.0)\n",
    "#             raise AssertionError(\"No debe permitir saldo negativo\")\n",
    "#         except ValueError:\n",
    "#             pass\n",
    "\n",
    "#         # setter de saldo debe impedir negativos\n",
    "#         try:\n",
    "#             c.saldo = -10.0  # type: ignore[attr-defined]\n",
    "#             raise AssertionError(\"No debe permitir setear saldo negativo\")\n",
    "#         except ValueError:\n",
    "#             pass\n",
    "\n",
    "#         # formato de __str__\n",
    "#         s = str(c)\n",
    "#         assert s.startswith(\"Cuenta de \")\n",
    "#         assert \":\" in s\n",
    "\n",
    "#         print(\"✅ Todas las pruebas pasaron\")\n",
    "#     except AssertionError as e:\n",
    "#         print(\"❌ Prueba falló:\", e)\n",
    "\n",
    "\n"
   ]
  },
  {
   "cell_type": "markdown",
   "id": "09acf42e",
   "metadata": {},
   "source": [
    "\n",
    "---\n",
    "# Ejercicio individual (para entregar)\n",
    "\n",
    "**Enunciado:** Diseña una clase `InventarioProducto` que modele un ítem en bodega.\n",
    "\n",
    "**Requisitos mínimos:**\n",
    "- Atributos: `codigo: str`, `nombre: str`, `_stock: int = 0`, `precio: float`.\n",
    "- Propiedad `stock` con validación (no permite negativos).\n",
    "- Métodos:\n",
    "  - `ingresar(unidades: int) -> None` (suma al stock; valida `unidades > 0`).\n",
    "  - `vender(unidades: int) -> float` (resta stock si hay suficientes y retorna **total** = `unidades * precio`; valida entradas).\n",
    "  - `__repr__` que incluya `codigo`, `nombre` y `stock`.\n",
    "\n",
    "**Criterios de evaluación (auto-checklist):**\n",
    "- ✅ Valida entradas (no negativos, no ceros).\n",
    "- ✅ No permite stock negativo en ningún caso.\n",
    "- ✅ `vender` retorna el total y actualiza stock correctamente.\n",
    "- ✅ `__repr__` y `__str__`/`__repr__` son informativos.\n",
    "\n",
    "\n"
   ]
  },
  {
   "cell_type": "markdown",
   "id": "3d9aec52",
   "metadata": {},
   "source": [
    "\n",
    "## Cierre\n",
    "- POO te ayuda a **organizar** y **escalar** programas modelando el dominio con objetos.  \n",
    "- Esta base prepara herencia, composición y polimorfismo más avanzados en las próximas semanas.  \n",
    "- Revisa tus errores más comunes (olvidar `self`, validar entradas, confundir atributos de clase vs. instancia).\n"
   ]
  }
 ],
 "metadata": {
  "kernelspec": {
   "display_name": "Programming_2",
   "language": "python",
   "name": "python3"
  },
  "language_info": {
   "codemirror_mode": {
    "name": "ipython",
    "version": 3
   },
   "file_extension": ".py",
   "mimetype": "text/x-python",
   "name": "python",
   "nbconvert_exporter": "python",
   "pygments_lexer": "ipython3",
   "version": "3.11.13"
  }
 },
 "nbformat": 4,
 "nbformat_minor": 5
}
