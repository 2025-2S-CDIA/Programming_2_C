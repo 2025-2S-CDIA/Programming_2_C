{
 "cells": [
  {
   "cell_type": "markdown",
   "id": "2496879b",
   "metadata": {},
   "source": [
    "\n",
    "# Semana 1 · Programación Orientada a Objetos (POO) en Python\n",
    "**Clases, Objetos, Atributos, Métodos, `__str__/__repr__`, `@property`, y Duck Typing**\n",
    "\n",
    "> Notebook práctico para clase. Ejecuta cada celda y completa los ejercicios marcados con **TODO**.\n"
   ]
  },
  {
   "cell_type": "markdown",
   "id": "fa4aa1a9",
   "metadata": {},
   "source": [
    "\n",
    "## 0) Warm‑up rápido\n",
    "Pregunta: ¿Qué diferencia hay entre **clase** y **objeto**? Escribe una frase en tus propias palabras en la siguiente celda (como comentario).\n"
   ]
  },
  {
   "cell_type": "markdown",
   "id": "450c26f2",
   "metadata": {},
   "source": [
    "Clase es una plantilla y objeto es lo que surge de la plantilla, clase es el plano, objeto es la casa"
   ]
  },
  {
   "cell_type": "markdown",
   "id": "d12e99a8",
   "metadata": {},
   "source": [
    "\n",
    "## 1) Clase mínima y primera instancia\n",
    "Observa la sintaxis básica: `class`, `__init__` para inicializar estado, y un método con `self`.\n"
   ]
  },
  {
   "cell_type": "code",
   "execution_count": 1,
   "id": "87498783",
   "metadata": {},
   "outputs": [
    {
     "name": "stdout",
     "output_type": "stream",
     "text": [
      "Hola, soy Ana pertenesco al curso (CDIA-001)\n"
     ]
    }
   ],
   "source": [
    "\n",
    "class Estudiante:\n",
    "    def __init__(self, nombre, matricula):\n",
    "        self.nombre = nombre\n",
    "        self.matricula = matricula\n",
    "\n",
    "    def saludar(self):\n",
    "        return f\"Hola, soy {self.nombre} pertenesco al curso ({self.matricula})\"\n",
    "\n",
    "e = Estudiante(\"Ana\", \"CDIA-001\")\n",
    "print(e.saludar())\n"
   ]
  },
  {
   "cell_type": "code",
   "execution_count": 2,
   "id": "3525d5d9",
   "metadata": {},
   "outputs": [
    {
     "name": "stdout",
     "output_type": "stream",
     "text": [
      "Hola, soy Luis pertenesco al curso (Programacion-2)\n"
     ]
    }
   ],
   "source": [
    "e_1=Estudiante(\"Luis\",\"Programacion-2\")\n",
    "\n",
    "print(e_1.saludar())"
   ]
  },
  {
   "cell_type": "code",
   "execution_count": 3,
   "id": "3a31a315",
   "metadata": {},
   "outputs": [
    {
     "data": {
      "text/plain": [
       "__main__.Estudiante"
      ]
     },
     "execution_count": 3,
     "metadata": {},
     "output_type": "execute_result"
    }
   ],
   "source": [
    "type(e_1)\n",
    " # Muestra: <class '__main__.Estudiante'>"
   ]
  },
  {
   "cell_type": "code",
   "execution_count": 4,
   "id": "7d70430b",
   "metadata": {},
   "outputs": [
    {
     "data": {
      "text/plain": [
       "float"
      ]
     },
     "execution_count": 4,
     "metadata": {},
     "output_type": "execute_result"
    }
   ],
   "source": [
    "y=5.6\n",
    "\n",
    "type(y)"
   ]
  },
  {
   "cell_type": "code",
   "execution_count": 5,
   "id": "87b95a5f",
   "metadata": {},
   "outputs": [
    {
     "name": "stdout",
     "output_type": "stream",
     "text": [
      "Clase Estudiante: 0x2153dbc0770\n",
      "Instancia e      : 0x2153efbf1d0\n",
      "Instancia e_1    : 0x215399b7810\n"
     ]
    }
   ],
   "source": [
    "# Direcciones (ids) en memoria del objeto clase y de las instancias\n",
    "print(\"Clase Estudiante:\", hex(id(Estudiante)))\n",
    "print(\"Instancia e      :\", hex(id(e)))\n",
    "print(\"Instancia e_1    :\", hex(id(e_1)))"
   ]
  },
  {
   "cell_type": "markdown",
   "id": "f2e5560f",
   "metadata": {},
   "source": [
    "\n",
    "## 2) Atributos de **instancia** vs. atributos de **clase**\n",
    "Un atributo de clase se comparte entre todas las instancias; uno de instancia es propio de cada objeto.\n"
   ]
  },
  {
   "cell_type": "code",
   "execution_count": 6,
   "id": "41854d7c",
   "metadata": {},
   "outputs": [
    {
     "name": "stdout",
     "output_type": "stream",
     "text": [
      "UNACH-Via a Guano UNACH-Via a Guano\n",
      "P2-A P2-B\n"
     ]
    }
   ],
   "source": [
    "\n",
    "class Curso:\n",
    "    campus = \"UNACH-Via a Guano\"  # atributo de clase (compartido)\n",
    "\n",
    "    def __init__(self, codigo):\n",
    "        self.codigo = codigo  # atributo de instancia (propio)\n",
    "\n",
    "a = Curso(\"P2-A\")\n",
    "\n",
    "b = Curso(\"P2-B\")\n",
    "\n",
    "print(a.campus, b.campus)   # comparten el mismo valor\n",
    "print(a.codigo, b.codigo)   # cada uno tiene su propio valor\n",
    "\n"
   ]
  },
  {
   "cell_type": "code",
   "execution_count": 7,
   "id": "e5f831f5",
   "metadata": {},
   "outputs": [
    {
     "name": "stdout",
     "output_type": "stream",
     "text": [
      "Virtual Virtual\n"
     ]
    }
   ],
   "source": [
    "# Demostración: cambiamos el atributo de clase\n",
    "Curso.campus = \"Virtual\"\n",
    "print(a.campus, b.campus)   # ambas instancias ven el cambio\n"
   ]
  },
  {
   "cell_type": "markdown",
   "id": "022332ec",
   "metadata": {},
   "source": [
    "\n",
    "## 3) `__str__` y `__repr__` para salidas legibles\n",
    "- `__str__`: presentación amigable para usuarios.\n",
    "- `__repr__`: representación precisa para desarrolladores (útil en depuración).\n"
   ]
  },
  {
   "cell_type": "code",
   "execution_count": 8,
   "id": "d869cf37",
   "metadata": {},
   "outputs": [
    {
     "name": "stdout",
     "output_type": "stream",
     "text": [
      "<__main__.Estudiante object at 0x000002153EFBF1D0>\n"
     ]
    }
   ],
   "source": [
    "print(e)"
   ]
  },
  {
   "cell_type": "code",
   "execution_count": 9,
   "id": "297677c0",
   "metadata": {},
   "outputs": [],
   "source": [
    "\n",
    "class EstudianteLegible:\n",
    "    def __init__(self, nombre): \n",
    "        self.nombre = nombre\n",
    "\n",
    "    # def __repr__(self):\n",
    "    #     return f\"EstudianteLegible(nombre={self.nombre!r})\"\n",
    "\n",
    "    def __str__(self):\n",
    "        return f\"El estudiante se llama {self.nombre}\"\n",
    "\n"
   ]
  },
  {
   "cell_type": "code",
   "execution_count": 10,
   "id": "abbd647b",
   "metadata": {},
   "outputs": [
    {
     "name": "stdout",
     "output_type": "stream",
     "text": [
      "El estudiante se llama Elena\n"
     ]
    }
   ],
   "source": [
    "e = EstudianteLegible(\"Elena\")\n",
    "\n",
    "print(e)# En notebooks, la última línea muestra repr"
   ]
  },
  {
   "cell_type": "code",
   "execution_count": 11,
   "id": "a87835dc",
   "metadata": {},
   "outputs": [
    {
     "name": "stdout",
     "output_type": "stream",
     "text": [
      "El estudiante se llama Carlos\n"
     ]
    }
   ],
   "source": [
    "e_2=EstudianteLegible(\"Carlos\")\n",
    "print(e_2)"
   ]
  },
  {
   "cell_type": "markdown",
   "id": "0f44d60e",
   "metadata": {},
   "source": [
    "\n",
    "## 4) Métodos: de instancia, de clase y estáticos\n",
    "- **Instancia**: usa `self` (estado particular).\n",
    "- **Clase**: usa `cls` (estado compartido).\n",
    "- **Estático**: utilidad que no requiere `self/cls`.\n"
   ]
  },
  {
   "cell_type": "code",
   "execution_count": 12,
   "id": "defe57c4",
   "metadata": {},
   "outputs": [],
   "source": [
    "class Util:\n",
    "    contador = 0\n",
    "\n",
    "    def __init__(self):\n",
    "        Util.contador += 1  # método de instancia\n",
    "\n",
    "    @classmethod\n",
    "    def cuantos(cls):\n",
    "        return cls.contador  # método de clase\n",
    "\n",
    "    @staticmethod\n",
    "    def normaliza(txt):\n",
    "        return str(txt).strip()  # método estático"
   ]
  },
  {
   "cell_type": "code",
   "execution_count": 13,
   "id": "1804b4ca",
   "metadata": {},
   "outputs": [],
   "source": [
    "u1 = Util() \n",
    "u2 = Util()\n"
   ]
  },
  {
   "cell_type": "code",
   "execution_count": 14,
   "id": "87ce3459",
   "metadata": {},
   "outputs": [
    {
     "name": "stdout",
     "output_type": "stream",
     "text": [
      "instancias: 2\n"
     ]
    }
   ],
   "source": [
    "print(\"instancias:\", Util.cuantos())\n"
   ]
  },
  {
   "cell_type": "code",
   "execution_count": 15,
   "id": "78c65ffb",
   "metadata": {},
   "outputs": [
    {
     "name": "stdout",
     "output_type": "stream",
     "text": [
      "normaliza: hola\n"
     ]
    }
   ],
   "source": [
    "print(\"normaliza:\", Util.normaliza(\"  hola  \"))"
   ]
  },
  {
   "cell_type": "code",
   "execution_count": 17,
   "id": "2047c774",
   "metadata": {},
   "outputs": [
    {
     "name": "stdout",
     "output_type": "stream",
     "text": [
      "hola he normalizado\n"
     ]
    }
   ],
   "source": [
    "print(u1.normaliza(\"hola he normalizado\"))  # también se puede llamar desde la instancia"
   ]
  },
  {
   "cell_type": "markdown",
   "id": "03d8b7b2",
   "metadata": {},
   "source": [
    "\n",
    "## 5) `@property`: valida como método, usa como atributo\n",
    "Ejemplo: evitar saldos negativos con una propiedad.\n"
   ]
  },
  {
   "cell_type": "code",
   "execution_count": null,
   "id": "ee495c6c",
   "metadata": {},
   "outputs": [],
   "source": [
    "\n",
    "class Cuenta:\n",
    "    def __init__(self, saldo=0.0):\n",
    "        self._saldo = float(saldo)\n",
    "\n",
    "    @property\n",
    "    def saldo(self) -> float:\n",
    "        return self._saldo\n",
    "\n",
    "    @saldo.setter\n",
    "    def saldo(self, v: float):\n",
    "        v = float(v)\n",
    "        if v < 0:\n",
    "            raise ValueError(\"Saldo negativo no permitido\")\n",
    "        self._saldo = v\n",
    "\n",
    "c = Cuenta(100)\n",
    "print(\"saldo inicial:\", c.saldo)\n",
    "c.saldo = 250\n",
    "print(\"saldo ahora:\", c.saldo)\n",
    "# c.saldo = -10  # descomenta para ver el error\n"
   ]
  },
  {
   "cell_type": "markdown",
   "id": "02db1e68",
   "metadata": {},
   "source": [
    "\n",
    "## 6) Duck typing (polimorfismo \"a la Python\")\n",
    "Nos interesa **qué puede hacer** el objeto (su interfaz), no su tipo exacto.\n"
   ]
  },
  {
   "cell_type": "code",
   "execution_count": null,
   "id": "8b7012a2",
   "metadata": {},
   "outputs": [],
   "source": [
    "\n",
    "def imprimir_area(figura):\n",
    "    print(\"Área:\", figura.area())\n",
    "\n",
    "class Circulo:\n",
    "    def __init__(self, r): self.r = r\n",
    "    def area(self): return 3.1416 * self.r * self.r\n",
    "\n",
    "class Rectangulo:\n",
    "    def __init__(self, a, b): self.a = a; self.b = b\n",
    "    def area(self): return self.a * self.b\n",
    "\n",
    "imprimir_area(Circulo(2))\n",
    "imprimir_area(Rectangulo(3, 4))\n"
   ]
  },
  {
   "cell_type": "markdown",
   "id": "e46c39ac",
   "metadata": {},
   "source": [
    "\n",
    "## 7) Type hints (opcional pero útil)\n",
    "Ayudan a documentar y a que herramientas como `mypy`/el IDE detecten errores antes de ejecutar.\n"
   ]
  },
  {
   "cell_type": "code",
   "execution_count": null,
   "id": "2ca174fb",
   "metadata": {},
   "outputs": [],
   "source": [
    "\n",
    "from typing import List\n",
    "\n",
    "def promedio(notas: List[float]) -> float:\n",
    "    return sum(notas) / len(notas)\n",
    "\n",
    "print(promedio([8.5, 9.0, 10.0]))\n"
   ]
  },
  {
   "cell_type": "markdown",
   "id": "1d379daf",
   "metadata": {},
   "source": [
    "\n",
    "---\n",
    "# Ejercicio guiado (en clase)\n",
    "\n",
    "**Objetivo:** modelar una `CuentaBancaria` con reglas simples y probarla.\n",
    "\n",
    "**Requisitos:**\n",
    "- Atributos: `titular: str`, `_saldo: float = 0.0`.\n",
    "- Métodos:\n",
    "  - `depositar(monto: float) -> None`: suma al saldo; `monto` debe ser positivo.\n",
    "  - `retirar(monto: float) -> None`: resta del saldo; no permite dejar saldo negativo.\n",
    "  - `__str__(self) -> str`: representación amigable (`\"Cuenta de <titular>: <saldo>\"`).\n",
    "- Propiedad:\n",
    "  - `saldo` (con `@property` y setter que valide no-negativos).\n",
    "- Pista: usa `ValueError` para validar entradas inválidas.\n"
   ]
  },
  {
   "cell_type": "code",
   "execution_count": null,
   "id": "9fcf9e28",
   "metadata": {},
   "outputs": [],
   "source": [
    "\n",
    "# === TODO: Implementa aquí tu solución ===\n",
    "\n",
    "class CuentaBancaria:\n",
    "    def __init__(self, titular: str, saldo: float = 0.0):\n",
    "        # TODO: inicializa atributos\n",
    "        pass\n",
    "\n",
    "    def depositar(self, monto: float) -> None:\n",
    "        # TODO: valida (monto > 0) y suma al saldo\n",
    "        pass\n",
    "\n",
    "    def retirar(self, monto: float) -> None:\n",
    "        # TODO: valida (monto > 0) y que no deje saldo negativo\n",
    "        pass\n",
    "\n",
    "    # TODO: agrega propiedad saldo con getter/setter que impida saldos negativos\n",
    "\n",
    "    def __str__(self) -> str:\n",
    "        # TODO: devuelve \"Cuenta de <titular>: <saldo>\"\n",
    "        return \"TODO\"\n"
   ]
  },
  {
   "cell_type": "markdown",
   "id": "0cfe705f",
   "metadata": {},
   "source": [
    "\n",
    "## Pruebas automáticas (autoevaluación)\n",
    "Ejecuta esta celda para verificar tu implementación. Si todo va bien, verás **✅ Todas las pruebas pasaron**.\n"
   ]
  },
  {
   "cell_type": "code",
   "execution_count": null,
   "id": "962d978f",
   "metadata": {},
   "outputs": [],
   "source": [
    "\n",
    "# No modifiques estas pruebas.\n",
    "def _run_tests():\n",
    "    try:\n",
    "        c = CuentaBancaria(\"Ana\")\n",
    "        assert \"Ana\" in str(c)\n",
    "\n",
    "        # saldo inicial 0.0\n",
    "        assert hasattr(c, \"saldo\")\n",
    "        assert isinstance(c.saldo, float)\n",
    "        assert c.saldo == 0.0\n",
    "\n",
    "        # depositar válido\n",
    "        c.depositar(100.0)\n",
    "        assert c.saldo == 100.0\n",
    "\n",
    "        # retirar válido\n",
    "        c.retirar(40.0)\n",
    "        assert c.saldo == 60.0\n",
    "\n",
    "        # no permite depositar 0 o negativo\n",
    "        try:\n",
    "            c.depositar(0)\n",
    "            raise AssertionError(\"depositar(0) debe fallar\")\n",
    "        except ValueError:\n",
    "            pass\n",
    "        try:\n",
    "            c.depositar(-5)\n",
    "            raise AssertionError(\"depositar(-5) debe fallar\")\n",
    "        except ValueError:\n",
    "            pass\n",
    "\n",
    "        # no permite retirar 0 o negativo\n",
    "        try:\n",
    "            c.retirar(0)\n",
    "            raise AssertionError(\"retirar(0) debe fallar\")\n",
    "        except ValueError:\n",
    "            pass\n",
    "        try:\n",
    "            c.retirar(-1)\n",
    "            raise AssertionError(\"retirar(-1) debe fallar\")\n",
    "        except ValueError:\n",
    "            pass\n",
    "\n",
    "        # no permite dejar saldo negativo\n",
    "        try:\n",
    "            c.retirar(1000.0)\n",
    "            raise AssertionError(\"No debe permitir saldo negativo\")\n",
    "        except ValueError:\n",
    "            pass\n",
    "\n",
    "        # setter de saldo debe impedir negativos\n",
    "        try:\n",
    "            c.saldo = -10.0  # type: ignore[attr-defined]\n",
    "            raise AssertionError(\"No debe permitir setear saldo negativo\")\n",
    "        except ValueError:\n",
    "            pass\n",
    "\n",
    "        # formato de __str__\n",
    "        s = str(c)\n",
    "        assert s.startswith(\"Cuenta de \")\n",
    "        assert \":\" in s\n",
    "\n",
    "        print(\"✅ Todas las pruebas pasaron\")\n",
    "    except AssertionError as e:\n",
    "        print(\"❌ Prueba falló:\", e)\n",
    "\n",
    "_run_tests()\n"
   ]
  },
  {
   "cell_type": "markdown",
   "id": "09acf42e",
   "metadata": {},
   "source": [
    "\n",
    "---\n",
    "# Ejercicio individual (para entregar)\n",
    "\n",
    "**Enunciado:** Diseña una clase `InventarioProducto` que modele un ítem en bodega.\n",
    "\n",
    "**Requisitos mínimos:**\n",
    "- Atributos: `codigo: str`, `nombre: str`, `_stock: int = 0`, `precio: float`.\n",
    "- Propiedad `stock` con validación (no permite negativos).\n",
    "- Métodos:\n",
    "  - `ingresar(unidades: int) -> None` (suma al stock; valida `unidades > 0`).\n",
    "  - `vender(unidades: int) -> float` (resta stock si hay suficientes y retorna **total** = `unidades * precio`; valida entradas).\n",
    "  - `__repr__` que incluya `codigo`, `nombre` y `stock`.\n",
    "\n",
    "**Criterios de evaluación (auto-checklist):**\n",
    "- ✅ Valida entradas (no negativos, no ceros).\n",
    "- ✅ No permite stock negativo en ningún caso.\n",
    "- ✅ `vender` retorna el total y actualiza stock correctamente.\n",
    "- ✅ `__repr__` y `__str__`/`__repr__` son informativos.\n",
    "\n",
    "> Entrega tu archivo `.py` o copia tu clase en el LMS. Incluye 3 pruebas de uso (casos de éxito y error).\n"
   ]
  },
  {
   "cell_type": "markdown",
   "id": "3d9aec52",
   "metadata": {},
   "source": [
    "\n",
    "## Cierre\n",
    "- POO te ayuda a **organizar** y **escalar** programas modelando el dominio con objetos.  \n",
    "- Esta base prepara herencia, composición y polimorfismo más avanzados en las próximas semanas.  \n",
    "- Revisa tus errores más comunes (olvidar `self`, validar entradas, confundir atributos de clase vs. instancia).\n"
   ]
  }
 ],
 "metadata": {
  "kernelspec": {
   "display_name": "Programming_2",
   "language": "python",
   "name": "python3"
  },
  "language_info": {
   "codemirror_mode": {
    "name": "ipython",
    "version": 3
   },
   "file_extension": ".py",
   "mimetype": "text/x-python",
   "name": "python",
   "nbconvert_exporter": "python",
   "pygments_lexer": "ipython3",
   "version": "3.11.13"
  }
 },
 "nbformat": 4,
 "nbformat_minor": 5
}
